{
  "nbformat": 4,
  "nbformat_minor": 0,
  "metadata": {
    "colab": {
      "provenance": [],
      "authorship_tag": "ABX9TyMCLzvgCDP3HBtAz58k067x",
      "include_colab_link": true
    },
    "kernelspec": {
      "name": "python3",
      "display_name": "Python 3"
    },
    "language_info": {
      "name": "python"
    }
  },
  "cells": [
    {
      "cell_type": "markdown",
      "metadata": {
        "id": "view-in-github",
        "colab_type": "text"
      },
      "source": [
        "<a href=\"https://colab.research.google.com/github/ManteshMhetre/MachineLearning/blob/master/FirstProgram.ipynb\" target=\"_parent\"><img src=\"https://colab.research.google.com/assets/colab-badge.svg\" alt=\"Open In Colab\"/></a>"
      ]
    },
    {
      "cell_type": "code",
      "execution_count": null,
      "metadata": {
        "id": "3r7pYcoOrAQD",
        "colab": {
          "base_uri": "https://localhost:8080/"
        },
        "outputId": "81a46f9d-ec5e-4d89-e6ea-227cd97f2ad5"
      },
      "outputs": [
        {
          "output_type": "stream",
          "name": "stdout",
          "text": [
            "Hi Mantesh\n"
          ]
        }
      ],
      "source": [
        "print(\"Hi Mantesh\")"
      ]
    },
    {
      "cell_type": "code",
      "source": [
        "print(\"Hello Mantesh\")"
      ],
      "metadata": {
        "id": "pJweOq1yrIYV",
        "outputId": "8f9ffd30-17f0-451e-a502-cbc4405e203a",
        "colab": {
          "base_uri": "https://localhost:8080/"
        }
      },
      "execution_count": null,
      "outputs": [
        {
          "output_type": "stream",
          "name": "stdout",
          "text": [
            "Hello Mantesh\n"
          ]
        }
      ]
    }
  ]
}